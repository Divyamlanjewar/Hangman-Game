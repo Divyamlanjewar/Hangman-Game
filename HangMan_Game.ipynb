{
  "cells": [
    {
      "cell_type": "markdown",
      "id": "6c02d853",
      "metadata": {
        "id": "6c02d853"
      },
      "source": [
        "# Hangman Game"
      ]
    },
    {
      "cell_type": "markdown",
      "id": "c15ada68",
      "metadata": {
        "id": "c15ada68"
      },
      "source": [
        "### In this project we are going to create Hangman Game using python"
      ]
    },
    {
      "cell_type": "markdown",
      "id": "83124fbb",
      "metadata": {
        "id": "83124fbb"
      },
      "source": [
        "#### Q. What is the hangman game?\n",
        "- A:- Hangman is a guessing game. The player will tries to guess a word picked by the computer, by suggesting letters within a certain number of guesses"
      ]
    },
    {
      "cell_type": "markdown",
      "id": "09ad41dc",
      "metadata": {
        "id": "09ad41dc"
      },
      "source": [
        "### Task 1\n",
        "Create a function __is_word_guessed__ that takes in two arguments :-  \n",
        "__secret_word, letters_guessed__  \n",
        "__returns True__ if all of the letter of secret_word are in letters_guessed, __returns False__ if not  \n",
        "\n",
        "\n",
        "\n",
        "#### Assumptions\n",
        "__secret_word__: string, the word the user is guessing; assumes all letters are lowercase\n",
        "__letters_guessed__: list (of letters), which letters have been guessed so far; assumes that all letters are lowercase\n",
        "\n",
        "\n",
        "__Example__:-  \n",
        "secret_word = 'apple'  \n",
        "letters_guessed = ['e', 'a', 'k', 'p', 'l', 's']  \n",
        "is_word_guessed() will return True.  \n",
        "  \n",
        "  \n",
        "secret_word = 'apple'  \n",
        "letters_guessed = ['e', 'i', 'k', 'p', 'r', 's']  \n",
        "is_word_guessed() will return False.  "
      ]
    },
    {
      "cell_type": "markdown",
      "id": "6bc56ae5",
      "metadata": {
        "id": "6bc56ae5"
      },
      "source": [
        "### Task 2\n",
        "Create a function __get_guessed_word__ that takes in two arguments :-  \n",
        "__secret_word, letters_guessed___\n",
        "__returns__ string, comprised of known letters, and unknown letters represented by an underscore and a space (_ )  \n",
        "\n",
        "\n",
        "#### Assumptions  \n",
        "__secret_word__: string, the word the user is guessing;  \n",
        "__letters_guessed__: list (of letters), which letters have been guessed so far  \n",
        "\n",
        "__Example__:-  \n",
        "__secret_word__ = 'apple'  \n",
        "__letters_guessed__ = ['e', 'i', 'k', 'p', 'r', 's']  \n",
        "get_guessed_word() will return '_ pp_ e'  \n",
        "You want something like a_ _ _ d_ j and Not a___d_j,  \n",
        "which might make it hard for the user to know how many characters are there to be\n",
        "guessed,  \n",
        "that's why you want to use '_ ' instead of '_'  "
      ]
    },
    {
      "cell_type": "markdown",
      "id": "862d9652",
      "metadata": {
        "id": "862d9652"
      },
      "source": [
        "## Great, We have created all of the Helper functions, now let's start our work on the actual Hangman Game  \n",
        "\n",
        "\n",
        "# Hangman Game  \n",
        "\n",
        "Create a function __hangman__ that takes in one argument  \n",
        "__secret_word__ :- string, the secret word to guess.  \n",
        "\n",
        "__The function should do the following__:-  \n",
        "Starts up an interactive game of Hangman.\n",
        "- At the start of the game, let the user know how many letters the secret_word contains and how many guesses s/he starts with.\n",
        "- The user should start with 6 guesses\n",
        "- Before each round, you should display to the user how many guesses s/he has left and the letters that the user has not yet guessed.\n",
        "- Ask the user to supply one guess per round. Remember to make sure that the user puts in a letter!\n",
        "- The user should receive feedback immediately after each guess about whether their guess appears in the computer's word.\n",
        "- After each guess, you should display to the user the partially guessed word so far.\n",
        "- If the user inputs a letter that hasn’t been guessed before and the letter is in the secret word, the user loses no guesses.\n",
        "- Consonants: If the user inputs a consonant that hasn’t been guessed and the consonant is not in the secret word, the user loses one guess if it’s a consonant.\n",
        "- Vowels: If the vowel hasn’t been guessed and the vowel is not in the secret word, the user loses two guesses. Vowels are a, e, i, o, and u. y does not count as a vowel.\n",
        "- The game should end when the user constructs the full word or runs out of guesses.\n",
        "- If the player runs out of guesses before completing the word, tell them they lost and reveal the word to the user when the game ends.\n",
        "- If the user wins, print a congratulatory message and tell the user their score.\n",
        "- The total score is the number of guesses_remaining once the user has guessed the secret_word times the number of unique letters in secret_word.  \n",
        "\n",
        "<p style=\"text-align:center;\">Total score = guesses_remaining * number unique letters in secret_word</p>\n"
      ]
    },
    {
      "cell_type": "code",
      "execution_count": 38,
      "id": "0295f68a",
      "metadata": {
        "id": "0295f68a"
      },
      "outputs": [],
      "source": []
    },
    {
      "cell_type": "markdown",
      "id": "1a980dca",
      "metadata": {
        "id": "1a980dca"
      },
      "source": [
        "# Demo Game 1"
      ]
    },
    {
      "cell_type": "markdown",
      "id": "58d73ecb",
      "metadata": {
        "id": "58d73ecb"
      },
      "source": [
        "# Hangman Game\n",
        "\n",
        "Welcome to Hangman!\n",
        "The word has 6 letters.\n",
        "\n",
        "**Guesses remaining:** 6  \n",
        "**Available letters:** abcdefghijklmnopqrstuvwxyz  \n",
        "**Word:** \\_ \\_ \\_ \\_ \\_ \\_\n",
        "\n",
        "**Guess a letter:** u  \n",
        "Incorrect guess.\n",
        "\n",
        "**Guesses remaining:** 4  \n",
        "**Available letters:** abcdefghijklmnopqrstvwxyz  \n",
        "**Word:** \\_ \\_ \\_ \\_ \\_ \\_\n",
        "\n",
        "**Guess a letter:** a  \n",
        "Good guess!\n",
        "\n",
        "**Guesses remaining:** 4  \n",
        "**Available letters:** bcdefghijklmnopqrstvwxyz  \n",
        "**Word:** \\_ a\\_ a\\_ a\n",
        "\n",
        "**Guess a letter:** p  \n",
        "Please enter a single letter.\n",
        "\n",
        "**Guesses remaining:** 4  \n",
        "**Available letters:** bcdefghijklmnopqrstvwxyz  \n",
        "**Word:** \\_ a\\_ a\\_ a\n",
        "\n",
        "**Guess a letter:** b  \n",
        "Good guess!\n",
        "\n",
        "**Guesses remaining:** 4  \n",
        "**Available letters:** cdefghijklmnopqrstvwxyz  \n",
        "**Word:** ba\\_ a\\_ a\n",
        "\n",
        "**Guess a letter:** n  \n",
        "Good guess!\n",
        "\n",
        "Congratulations! You've guessed the word: banana  \n",
        "Your score: 12\n"
      ]
    },
    {
      "cell_type": "markdown",
      "id": "3b226e3c",
      "metadata": {
        "id": "3b226e3c"
      },
      "source": [
        "# Demo Game 2"
      ]
    },
    {
      "cell_type": "markdown",
      "id": "56806e75",
      "metadata": {
        "id": "56806e75"
      },
      "source": [
        "# Hangman Game\n",
        "\n",
        "Welcome to Hangman!\n",
        "The word has 6 letters.\n",
        "\n",
        "**Guesses remaining:** 6  \n",
        "**Available letters:** abcdefghijklmnopqrstuvwxyz  \n",
        "**Word:** \\_ \\_ \\_ \\_ \\_ \\_\n",
        "\n",
        "**Guess a letter:** h  \n",
        "Incorrect guess.\n",
        "\n",
        "**Guesses remaining:** 5  \n",
        "**Available letters:** abcdefgijklmnopqrstuvwxyz  \n",
        "**Word:** \\_ \\_ \\_ \\_ \\_ \\_\n",
        "\n",
        "**Guess a letter:** w  \n",
        "Incorrect guess.\n",
        "\n",
        "**Guesses remaining:** 4  \n",
        "**Available letters:** abcdefgijklmnopqrstuvxyz  \n",
        "**Word:** \\_ \\_ \\_ \\_ \\_ \\_\n",
        "\n",
        "**Guess a letter:** k  \n",
        "Incorrect guess.\n",
        "\n",
        "**Guesses remaining:** 3  \n",
        "**Available letters:** abcdefgijlmnopqrstuvxyz  \n",
        "**Word:** \\_ \\_ \\_ \\_ \\_ \\_\n",
        "\n",
        "**Guess a letter:** d  \n",
        "Incorrect guess.\n",
        "\n",
        "**Guesses remaining:** 2  \n",
        "**Available letters:** abcefgijlmnopqrstuvxyz  \n",
        "**Word:** \\_ \\_ \\_ \\_ \\_ \\_\n",
        "\n",
        "**Guess a letter:** a  \n",
        "Good guess!\n",
        "\n",
        "**Guesses remaining:** 2  \n",
        "**Available letters:** bcefgijlmnopqrstuvxyz  \n",
        "**Word:** \\_ a\\_ a\\_ a\n",
        "\n",
        "**Guess a letter:** b  \n",
        "Good guess!\n",
        "\n",
        "**Guesses remaining:** 2  \n",
        "**Available letters:** cefgijlmnopqrstuvxyz  \n",
        "**Word:** ba_ a_ a\n",
        "\n",
        "**Guess a letter:** e  \n",
        "Incorrect guess.\n",
        "\n",
        "You've run out of guesses. The word was: banana\n"
      ]
    },
    {
      "cell_type": "markdown",
      "id": "3706272f",
      "metadata": {
        "id": "3706272f"
      },
      "source": [
        "## Hints\n",
        "__Try to keep the output as similar to the one's above__  \n",
        "\n",
        "__Hints:-__  \n",
        "\n",
        "1. Consider writing additional helper functions if you need them.  \n",
        "2. There are four important pieces of information you may wish to store:  \n",
        "a. secret_word: The word to guess. This is already used as the parameter name for the hangman function.  \n",
        "b. letters_guessed: The letters that have been guessed so far. If they guess a letter that is already in letters_guessed, you should print a message telling them they've already guessed that but do not penalize them for it.  \n",
        "c. guesses_remaining: The number of guesses the user has left. Note that in our example game, the penalty for choosing an incorrect vowel is different than the pena lty for choosing an incorrect consonant.  "
      ]
    },
    {
      "cell_type": "code",
      "execution_count": 45,
      "id": "e0b3c743",
      "metadata": {
        "colab": {
          "base_uri": "https://localhost:8080/",
          "height": 460
        },
        "id": "e0b3c743",
        "outputId": "d0612263-50fe-41e7-b517-964cf71c7a3f"
      },
      "outputs": [
        {
          "output_type": "stream",
          "name": "stdout",
          "text": [
            "Welcome to the game Hangman!\n",
            "I am thinking of a word that is 9 letters long.\n",
            "You have 6 guesses left.\n",
            "Available letters: abcdefghijklmnopqrstuvwxyz\n"
          ]
        },
        {
          "output_type": "error",
          "ename": "KeyboardInterrupt",
          "evalue": "Interrupted by user",
          "traceback": [
            "\u001b[0;31m---------------------------------------------------------------------------\u001b[0m",
            "\u001b[0;31mKeyboardInterrupt\u001b[0m                         Traceback (most recent call last)",
            "\u001b[0;32m<ipython-input-45-1bfef9eb424a>\u001b[0m in \u001b[0;36m<cell line: 55>\u001b[0;34m()\u001b[0m\n\u001b[1;32m     54\u001b[0m \u001b[0;34m\u001b[0m\u001b[0m\n\u001b[1;32m     55\u001b[0m \u001b[0;32mif\u001b[0m \u001b[0m__name__\u001b[0m \u001b[0;34m==\u001b[0m \u001b[0;34m\"__main__\"\u001b[0m\u001b[0;34m:\u001b[0m\u001b[0;34m\u001b[0m\u001b[0;34m\u001b[0m\u001b[0m\n\u001b[0;32m---> 56\u001b[0;31m     \u001b[0mhangman\u001b[0m\u001b[0;34m(\u001b[0m\u001b[0;34m)\u001b[0m\u001b[0;34m\u001b[0m\u001b[0;34m\u001b[0m\u001b[0m\n\u001b[0m\u001b[1;32m     57\u001b[0m \u001b[0mw\u001b[0m\u001b[0;34m\u001b[0m\u001b[0;34m\u001b[0m\u001b[0m\n\u001b[1;32m     58\u001b[0m \u001b[0md\u001b[0m\u001b[0;34m\u001b[0m\u001b[0;34m\u001b[0m\u001b[0m\n",
            "\u001b[0;32m<ipython-input-45-1bfef9eb424a>\u001b[0m in \u001b[0;36mhangman\u001b[0;34m()\u001b[0m\n\u001b[1;32m     28\u001b[0m         \u001b[0mprint\u001b[0m\u001b[0;34m(\u001b[0m\u001b[0;34mf'Available letters: {available_letters}'\u001b[0m\u001b[0;34m)\u001b[0m\u001b[0;34m\u001b[0m\u001b[0;34m\u001b[0m\u001b[0m\n\u001b[1;32m     29\u001b[0m \u001b[0;34m\u001b[0m\u001b[0m\n\u001b[0;32m---> 30\u001b[0;31m         \u001b[0mguess\u001b[0m \u001b[0;34m=\u001b[0m \u001b[0minput\u001b[0m\u001b[0;34m(\u001b[0m\u001b[0;34m'Please guess a letter: '\u001b[0m\u001b[0;34m)\u001b[0m\u001b[0;34m.\u001b[0m\u001b[0mlower\u001b[0m\u001b[0;34m(\u001b[0m\u001b[0;34m)\u001b[0m\u001b[0;34m\u001b[0m\u001b[0;34m\u001b[0m\u001b[0m\n\u001b[0m\u001b[1;32m     31\u001b[0m \u001b[0;34m\u001b[0m\u001b[0m\n\u001b[1;32m     32\u001b[0m         \u001b[0;32mif\u001b[0m \u001b[0;32mnot\u001b[0m \u001b[0mguess\u001b[0m\u001b[0;34m.\u001b[0m\u001b[0misalpha\u001b[0m\u001b[0;34m(\u001b[0m\u001b[0;34m)\u001b[0m \u001b[0;32mor\u001b[0m \u001b[0mlen\u001b[0m\u001b[0;34m(\u001b[0m\u001b[0mguess\u001b[0m\u001b[0;34m)\u001b[0m \u001b[0;34m!=\u001b[0m \u001b[0;36m1\u001b[0m\u001b[0;34m:\u001b[0m\u001b[0;34m\u001b[0m\u001b[0;34m\u001b[0m\u001b[0m\n",
            "\u001b[0;32m/usr/local/lib/python3.10/dist-packages/ipykernel/kernelbase.py\u001b[0m in \u001b[0;36mraw_input\u001b[0;34m(self, prompt)\u001b[0m\n\u001b[1;32m    849\u001b[0m                 \u001b[0;34m\"raw_input was called, but this frontend does not support input requests.\"\u001b[0m\u001b[0;34m\u001b[0m\u001b[0;34m\u001b[0m\u001b[0m\n\u001b[1;32m    850\u001b[0m             )\n\u001b[0;32m--> 851\u001b[0;31m         return self._input_request(str(prompt),\n\u001b[0m\u001b[1;32m    852\u001b[0m             \u001b[0mself\u001b[0m\u001b[0;34m.\u001b[0m\u001b[0m_parent_ident\u001b[0m\u001b[0;34m,\u001b[0m\u001b[0;34m\u001b[0m\u001b[0;34m\u001b[0m\u001b[0m\n\u001b[1;32m    853\u001b[0m             \u001b[0mself\u001b[0m\u001b[0;34m.\u001b[0m\u001b[0m_parent_header\u001b[0m\u001b[0;34m,\u001b[0m\u001b[0;34m\u001b[0m\u001b[0;34m\u001b[0m\u001b[0m\n",
            "\u001b[0;32m/usr/local/lib/python3.10/dist-packages/ipykernel/kernelbase.py\u001b[0m in \u001b[0;36m_input_request\u001b[0;34m(self, prompt, ident, parent, password)\u001b[0m\n\u001b[1;32m    893\u001b[0m             \u001b[0;32mexcept\u001b[0m \u001b[0mKeyboardInterrupt\u001b[0m\u001b[0;34m:\u001b[0m\u001b[0;34m\u001b[0m\u001b[0;34m\u001b[0m\u001b[0m\n\u001b[1;32m    894\u001b[0m                 \u001b[0;31m# re-raise KeyboardInterrupt, to truncate traceback\u001b[0m\u001b[0;34m\u001b[0m\u001b[0;34m\u001b[0m\u001b[0m\n\u001b[0;32m--> 895\u001b[0;31m                 \u001b[0;32mraise\u001b[0m \u001b[0mKeyboardInterrupt\u001b[0m\u001b[0;34m(\u001b[0m\u001b[0;34m\"Interrupted by user\"\u001b[0m\u001b[0;34m)\u001b[0m \u001b[0;32mfrom\u001b[0m \u001b[0;32mNone\u001b[0m\u001b[0;34m\u001b[0m\u001b[0;34m\u001b[0m\u001b[0m\n\u001b[0m\u001b[1;32m    896\u001b[0m             \u001b[0;32mexcept\u001b[0m \u001b[0mException\u001b[0m \u001b[0;32mas\u001b[0m \u001b[0me\u001b[0m\u001b[0;34m:\u001b[0m\u001b[0;34m\u001b[0m\u001b[0;34m\u001b[0m\u001b[0m\n\u001b[1;32m    897\u001b[0m                 \u001b[0mself\u001b[0m\u001b[0;34m.\u001b[0m\u001b[0mlog\u001b[0m\u001b[0;34m.\u001b[0m\u001b[0mwarning\u001b[0m\u001b[0;34m(\u001b[0m\u001b[0;34m\"Invalid Message:\"\u001b[0m\u001b[0;34m,\u001b[0m \u001b[0mexc_info\u001b[0m\u001b[0;34m=\u001b[0m\u001b[0;32mTrue\u001b[0m\u001b[0;34m)\u001b[0m\u001b[0;34m\u001b[0m\u001b[0;34m\u001b[0m\u001b[0m\n",
            "\u001b[0;31mKeyboardInterrupt\u001b[0m: Interrupted by user"
          ]
        }
      ],
      "source": [
        "import random\n",
        "\n",
        "def choose_random_word():\n",
        "    words = [\"python\", \"hangman\", \"computer\", \"programming\", \"developer\", \"game\"]\n",
        "    return random.choice(words)\n",
        "\n",
        "def is_word_guessed(secret_word, letters_guessed):\n",
        "    return all(letter in letters_guessed for letter in secret_word)\n",
        "\n",
        "def get_available_letters(letters_guessed):\n",
        "    alphabet = 'abcdefghijklmnopqrstuvwxyz'\n",
        "    return ''.join(letter if letter not in letters_guessed else '_' for letter in alphabet)\n",
        "\n",
        "def get_guessed_word(secret_word, letters_guessed):\n",
        "    return ''.join(letter if letter in letters_guessed else '_' for letter in secret_word)\n",
        "\n",
        "def hangman():\n",
        "    secret_word = choose_random_word()\n",
        "    max_attempts = 6\n",
        "    letters_guessed = []\n",
        "\n",
        "    print('Welcome to the game Hangman!')\n",
        "    print(f'I am thinking of a word that is {len(secret_word)} letters long.')\n",
        "\n",
        "    while max_attempts > 0 and not is_word_guessed(secret_word, letters_guessed):\n",
        "        print(f'You have {max_attempts} guesses left.')\n",
        "        available_letters = get_available_letters(letters_guessed)\n",
        "        print(f'Available letters: {available_letters}')\n",
        "\n",
        "        guess = input('Please guess a letter: ').lower()\n",
        "\n",
        "        if not guess.isalpha() or len(guess) != 1:\n",
        "            print('Invalid input. Please enter a single letter.')\n",
        "            continue\n",
        "\n",
        "        if guess in letters_guessed:\n",
        "            print('You have already guessed that letter. Try again.')\n",
        "            continue\n",
        "\n",
        "        letters_guessed.append(guess)\n",
        "\n",
        "        if guess in secret_word:\n",
        "            print(f'Good guess: {get_guessed_word(secret_word, letters_guessed)}')\n",
        "        else:\n",
        "            print(f'Oops! That letter is not in my word: {get_guessed_word(secret_word, letters_guessed)}')\n",
        "            max_attempts -= 1\n",
        "\n",
        "        print('---------------------------------------')\n",
        "\n",
        "    if is_word_guessed(secret_word, letters_guessed):\n",
        "        print(f'Congratulations! You guessed the word: {secret_word}')\n",
        "    else:\n",
        "        print(f'Sorry, you ran out of guesses. The word was {secret_word}')\n",
        "\n",
        "if __name__ == \"__main__\":\n",
        "    hangman()\n",
        "w\n",
        "d\n",
        "d\n"
      ]
    },
    {
      "cell_type": "code",
      "source": [],
      "metadata": {
        "id": "3zyflyjxdlfd"
      },
      "id": "3zyflyjxdlfd",
      "execution_count": 38,
      "outputs": []
    }
  ],
  "metadata": {
    "kernelspec": {
      "display_name": "Python 3 (ipykernel)",
      "language": "python",
      "name": "python3"
    },
    "language_info": {
      "codemirror_mode": {
        "name": "ipython",
        "version": 3
      },
      "file_extension": ".py",
      "mimetype": "text/x-python",
      "name": "python",
      "nbconvert_exporter": "python",
      "pygments_lexer": "ipython3",
      "version": "3.9.7"
    },
    "colab": {
      "provenance": []
    }
  },
  "nbformat": 4,
  "nbformat_minor": 5
}